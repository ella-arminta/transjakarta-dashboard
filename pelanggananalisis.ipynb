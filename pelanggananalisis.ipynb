{
 "cells": [
  {
   "cell_type": "code",
   "execution_count": 1,
   "metadata": {},
   "outputs": [],
   "source": [
    "from pyspark.sql import SparkSession\n",
    "from pyspark.sql.functions import *\n",
    "import matplotlib.pyplot as plt\n",
    "import pandas as pd\n",
    "spark = SparkSession.builder \\\n",
    "    .master(\"local\") \\\n",
    "    .appName(\"Word Count\") \\\n",
    "    .config(\"spark.some.config.option\", \"some-value\") \\\n",
    "    .getOrCreate()"
   ]
  },
  {
   "cell_type": "code",
   "execution_count": null,
   "metadata": {},
   "outputs": [],
   "source": [
    "spark.stop()"
   ]
  },
  {
   "cell_type": "code",
   "execution_count": 2,
   "metadata": {},
   "outputs": [
    {
     "name": "stdout",
     "output_type": "stream",
     "text": [
      "-RECORD 0--------------------------------\n",
      " transID          | ATBB895U7P81BP       \n",
      " payCardID        | 4368520028973555     \n",
      " payCardBank      | dki                  \n",
      " payCardName      | H. Asman Prakasa,... \n",
      " payCardSex       | M                    \n",
      " payCardBirthDate | 2011                 \n",
      " corridorID       | JAK.84               \n",
      " corridorName     | Terminal Kampung ... \n",
      " direction        | 1.0                  \n",
      " tapInStops       | B01844P              \n",
      " tapInStopsName   | Kav Marinir Kalim... \n",
      " tapInStopsLat    | -6.247975            \n",
      " tapInStopsLon    | 106.92659            \n",
      " stopStartSeq     | 12                   \n",
      " tapInTime        | 2022-06-03 06:11:03  \n",
      " tapOutStops      | B00140P              \n",
      " tapOutStopsName  | Billy Moon           \n",
      " tapOutStopsLat   | -6.248271            \n",
      " tapOutStopsLon   | 106.93093            \n",
      " stopEndSeq       | 14.0                 \n",
      " tapOutTime       | 2022-06-03 06:56:23  \n",
      " payAmount        | 0.0                  \n",
      " year             | 2022.0               \n",
      " month            | 6.0                  \n",
      "only showing top 1 row\n",
      "\n"
     ]
    }
   ],
   "source": [
    "df = spark.read.format('csv').options(header=True).load('dfTransjakarta2.csv')\n",
    "df.show(1,vertical=True)\n",
    "# df.groupBy(['year','month']).count().sort(['year','month']).show()"
   ]
  },
  {
   "cell_type": "code",
   "execution_count": 6,
   "metadata": {},
   "outputs": [
    {
     "name": "stdout",
     "output_type": "stream",
     "text": [
      "40\n",
      "+--------------+---------------+-----------+------------+----------+----------------+----------+-------------+---------+----------+--------------------+-------------+-------------+------------+-------------------+-----------+-------------------+--------------+--------------+----------+-------------------+---------+------+-----+\n",
      "|       transID|      payCardID|payCardBank| payCardName|payCardSex|payCardBirthDate|corridorID| corridorName|direction|tapInStops|      tapInStopsName|tapInStopsLat|tapInStopsLon|stopStartSeq|          tapInTime|tapOutStops|    tapOutStopsName|tapOutStopsLat|tapOutStopsLon|stopEndSeq|         tapOutTime|payAmount|  year|month|\n",
      "+--------------+---------------+-----------+------------+----------+----------------+----------+-------------+---------+----------+--------------------+-------------+-------------+------------+-------------------+-----------+-------------------+--------------+--------------+----------+-------------------+---------+------+-----+\n",
      "|SCDV131P1F13NO|213182918413344|     emoney|Ella Pranowo|         F|            1992|    JAK.08|Roxy - Benhil|      0.0|   B01788P|         JPO Mandiri|    -6.184803|    106.81513|          13|2022-06-03 06:07:41|    B02995P|         PU Irigasi|     -6.201479|     106.81079|      24.0|2022-06-03 06:52:00|      0.0|2022.0|  6.0|\n",
      "|FAYX847H4Y04BG|213182918413344|     emoney|Ella Pranowo|         F|            1992|    JAK.08|Roxy - Benhil|      1.0|   B00272P|Cipta Karya Tata ...|    -6.179781|    106.81041|           3|2022-09-03 16:56:34|    B01560P|Jln. Sanggau Cideng|     -6.169944|     106.80396|      10.0|2022-09-03 18:56:09|      0.0|2022.0|  9.0|\n",
      "|NAGQ277U9G42QR|213182918413344|     emoney|Ella Pranowo|         F|            1992|    JAK.08|Roxy - Benhil|      0.0|   B01788P|         JPO Mandiri|    -6.184803|    106.81513|          13|2023-04-04 06:52:36|    B02995P|         PU Irigasi|     -6.201479|     106.81079|      24.0|2023-04-04 07:23:30|      0.0|2023.0|  4.0|\n",
      "|BNXG089C7H17HF|213182918413344|     emoney|Ella Pranowo|         F|            1992|    JAK.08|Roxy - Benhil|      1.0|   B00272P|Cipta Karya Tata ...|    -6.179781|    106.81041|           3|2023-03-04 16:09:35|    B01560P|Jln. Sanggau Cideng|     -6.169944|     106.80396|      10.0|2023-03-04 18:08:52|      0.0|2023.0|  3.0|\n",
      "|NGWP972O5E92UB|213182918413344|     emoney|Ella Pranowo|         F|            1992|    JAK.08|Roxy - Benhil|      0.0|   B01788P|         JPO Mandiri|    -6.184803|    106.81513|          13|2023-11-05 06:34:37|    B02995P|         PU Irigasi|     -6.201479|     106.81079|      24.0|2023-11-05 06:59:17|      0.0|2023.0| 11.0|\n",
      "|QCUR774L2N22KP|213182918413344|     emoney|Ella Pranowo|         F|            1992|    JAK.08|Roxy - Benhil|      1.0|   B00272P|Cipta Karya Tata ...|    -6.179781|    106.81041|           3|2023-03-05 16:37:39|    B01560P|Jln. Sanggau Cideng|     -6.169944|     106.80396|      10.0|2023-03-05 17:57:36|      0.0|2023.0|  3.0|\n",
      "|XHBI611T5K40RG|213182918413344|     emoney|Ella Pranowo|         F|            1992|    JAK.08|Roxy - Benhil|      0.0|      NULL|         JPO Mandiri|    -6.184803|    106.81513|          13|2022-08-06 05:13:55|    B02995P|         PU Irigasi|     -6.201479|     106.81079|      24.0|2022-08-06 05:55:20|      0.0|2022.0|  8.0|\n",
      "|DMAD724F8F31SH|213182918413344|     emoney|Ella Pranowo|         F|            1992|    JAK.08|Roxy - Benhil|      1.0|   B00272P|Cipta Karya Tata ...|    -6.179781|    106.81041|           3|2022-04-06 16:10:06|    B01560P|Jln. Sanggau Cideng|     -6.169944|     106.80396|      10.0|2022-04-06 17:51:00|      0.0|2022.0|  4.0|\n",
      "|RTFO682M9M23NX|213182918413344|     emoney|Ella Pranowo|         F|            1992|    JAK.08|Roxy - Benhil|      0.0|   B01788P|         JPO Mandiri|    -6.184803|    106.81513|          13|2023-06-07 05:29:55|    B02995P|         PU Irigasi|     -6.201479|     106.81079|      24.0|2023-06-07 06:25:21|      0.0|2023.0|  6.0|\n",
      "|JFEY950J9G90DV|213182918413344|     emoney|Ella Pranowo|         F|            1992|    JAK.08|Roxy - Benhil|      1.0|   B00272P|Cipta Karya Tata ...|    -6.179781|    106.81041|           3|2022-03-07 16:20:29|    B01560P|Jln. Sanggau Cideng|     -6.169944|     106.80396|      10.0|2022-03-07 18:02:31|      0.0|2022.0|  3.0|\n",
      "|UPOC515B9Y58IZ|213182918413344|     emoney|Ella Pranowo|         F|            1992|      NULL|         NULL|      0.0|   B01788P|         JPO Mandiri|    -6.184803|    106.81513|          13|2023-09-10 05:12:43|    B02995P|         PU Irigasi|     -6.201479|     106.81079|      24.0|2023-09-10 05:37:59|      0.0|2023.0|  9.0|\n",
      "|LPPC421P0B82NI|213182918413344|     emoney|Ella Pranowo|         F|            1992|    JAK.08|Roxy - Benhil|      1.0|   B00272P|Cipta Karya Tata ...|    -6.179781|    106.81041|           3|2022-12-10 16:37:28|    B01560P|Jln. Sanggau Cideng|     -6.169944|     106.80396|      10.0|2022-12-10 18:14:02|      0.0|2022.0| 12.0|\n",
      "|HXLC063W4Q27IZ|213182918413344|     emoney|Ella Pranowo|         F|            1992|    JAK.08|Roxy - Benhil|      0.0|   B01788P|         JPO Mandiri|    -6.184803|    106.81513|          13|2022-06-11 05:05:31|       NULL|         PU Irigasi|     -6.201479|     106.81079|      24.0|2022-06-11 05:52:16|      0.0|2022.0|  6.0|\n",
      "|DTDX508F1A32GP|213182918413344|     emoney|Ella Pranowo|         F|            1992|    JAK.08|Roxy - Benhil|      1.0|   B00272P|Cipta Karya Tata ...|    -6.179781|    106.81041|           3|2022-05-11 16:02:38|    B01560P|Jln. Sanggau Cideng|     -6.169944|     106.80396|      10.0|2022-05-11 17:55:36|      0.0|2022.0|  5.0|\n",
      "|ADAS141R8L00TH|213182918413344|     emoney|Ella Pranowo|         F|            1992|    JAK.08|Roxy - Benhil|      0.0|   B01788P|         JPO Mandiri|    -6.184803|    106.81513|          13|2022-04-12 05:13:34|    B02995P|         PU Irigasi|     -6.201479|     106.81079|      24.0|2022-04-12 06:06:11|      0.0|2022.0|  4.0|\n",
      "|TGMD793H4D15DY|213182918413344|     emoney|Ella Pranowo|         F|            1992|    JAK.08|Roxy - Benhil|      1.0|   B00272P|Cipta Karya Tata ...|    -6.179781|    106.81041|           3|2022-11-12 16:49:30|    B01560P|Jln. Sanggau Cideng|     -6.169944|     106.80396|      10.0|2022-11-12 18:20:43|      0.0|2022.0| 11.0|\n",
      "|IFEC988X0T31DI|213182918413344|     emoney|Ella Pranowo|         F|            1992|    JAK.08|Roxy - Benhil|      0.0|   B01788P|         JPO Mandiri|    -6.184803|    106.81513|          13|2023-03-13 06:37:03|    B02995P|         PU Irigasi|     -6.201479|     106.81079|      24.0|2023-03-13 07:33:03|      0.0|2023.0|  3.0|\n",
      "|VJLT558X6K37OY|213182918413344|     emoney|Ella Pranowo|         F|            1992|    JAK.08|Roxy - Benhil|      1.0|   B00272P|Cipta Karya Tata ...|    -6.179781|    106.81041|           3|2022-06-13 17:10:17|       NULL|               NULL|          NULL|          NULL|      NULL|               NULL|      0.0|2022.0|  6.0|\n",
      "|XFVK838L7Q97VY|213182918413344|     emoney|Ella Pranowo|         F|            1992|    JAK.08|Roxy - Benhil|      0.0|   B01788P|         JPO Mandiri|    -6.184803|    106.81513|          13|2023-04-14 05:35:59|    B02995P|         PU Irigasi|     -6.201479|     106.81079|      24.0|2023-04-14 06:18:00|      0.0|2023.0|  4.0|\n",
      "|BESB975I7H73KO|213182918413344|     emoney|Ella Pranowo|         F|            1992|    JAK.08|Roxy - Benhil|      1.0|   B00272P|Cipta Karya Tata ...|    -6.179781|    106.81041|           3|2023-12-14 17:29:19|    B01560P|Jln. Sanggau Cideng|     -6.169944|     106.80396|      10.0|2023-12-14 18:39:55|      0.0|2023.0| 12.0|\n",
      "|MIBI151M9K64FN|213182918413344|     emoney|Ella Pranowo|         F|            1992|    JAK.08|Roxy - Benhil|      0.0|   B01788P|         JPO Mandiri|    -6.184803|    106.81513|          13|2022-09-17 06:04:57|    B02995P|         PU Irigasi|     -6.201479|     106.81079|      24.0|2022-09-17 06:32:21|      0.0|2022.0|  9.0|\n",
      "|MJHV702T7F52SC|213182918413344|     emoney|Ella Pranowo|         F|            1992|    JAK.08|Roxy - Benhil|      1.0|   B00272P|Cipta Karya Tata ...|    -6.179781|    106.81041|           3|2022-11-17 16:16:19|    B01560P|Jln. Sanggau Cideng|     -6.169944|     106.80396|      10.0|2022-11-17 17:35:06|      0.0|2022.0| 11.0|\n",
      "|TQQD671A7K77KR|213182918413344|     emoney|Ella Pranowo|         F|            1992|    JAK.08|Roxy - Benhil|      0.0|   B01788P|         JPO Mandiri|    -6.184803|    106.81513|          13|2022-12-18 06:16:27|    B02995P|         PU Irigasi|     -6.201479|     106.81079|      24.0|2022-12-18 06:39:59|      0.0|2022.0| 12.0|\n",
      "|EPQV184O9D28BZ|213182918413344|     emoney|Ella Pranowo|         F|            1992|    JAK.08|Roxy - Benhil|      1.0|   B00272P|Cipta Karya Tata ...|    -6.179781|    106.81041|           3|2023-06-18 16:43:15|    B01560P|Jln. Sanggau Cideng|     -6.169944|     106.80396|      10.0|2023-06-18 18:10:03|      0.0|2023.0|  6.0|\n",
      "|OWXC759Y8U19VC|213182918413344|     emoney|Ella Pranowo|         F|            1992|    JAK.08|Roxy - Benhil|      0.0|   B01788P|         JPO Mandiri|    -6.184803|    106.81513|          13|2022-08-19 06:08:34|    B02995P|         PU Irigasi|     -6.201479|     106.81079|      24.0|2022-08-19 06:30:25|      0.0|2022.0|  8.0|\n",
      "|XMKM927J2G43QZ|213182918413344|     emoney|Ella Pranowo|         F|            1992|    JAK.08|Roxy - Benhil|      1.0|   B00272P|Cipta Karya Tata ...|    -6.179781|    106.81041|           3|2022-05-19 16:29:38|    B01560P|Jln. Sanggau Cideng|     -6.169944|     106.80396|      10.0|2022-05-19 17:36:53|      0.0|2022.0|  5.0|\n",
      "|VRSY122A3S19GY|213182918413344|     emoney|Ella Pranowo|         F|            1992|    JAK.08|Roxy - Benhil|      0.0|   B01788P|         JPO Mandiri|    -6.184803|    106.81513|          13|2022-12-20 06:27:04|    B02995P|         PU Irigasi|     -6.201479|     106.81079|      24.0|2022-12-20 07:03:24|      0.0|2022.0| 12.0|\n",
      "|INZI886S7D49RZ|213182918413344|     emoney|Ella Pranowo|         F|            1992|      NULL|         NULL|      1.0|   B00272P|Cipta Karya Tata ...|    -6.179781|    106.81041|           3|2022-09-20 16:41:05|    B01560P|Jln. Sanggau Cideng|     -6.169944|     106.80396|      10.0|2022-09-20 18:20:39|      0.0|2022.0|  9.0|\n",
      "|BJEP227Q1D59CI|213182918413344|     emoney|Ella Pranowo|         F|            1992|    JAK.08|Roxy - Benhil|      0.0|   B01788P|         JPO Mandiri|    -6.184803|    106.81513|          13|2023-05-21 05:52:46|    B02995P|         PU Irigasi|     -6.201479|     106.81079|      24.0|2023-05-21 06:51:40|      0.0|2023.0|  5.0|\n",
      "|YMWK360P8F32PH|213182918413344|     emoney|Ella Pranowo|         F|            1992|    JAK.08|Roxy - Benhil|      1.0|   B00272P|Cipta Karya Tata ...|    -6.179781|    106.81041|           3|2023-03-21 16:08:07|    B01560P|Jln. Sanggau Cideng|     -6.169944|     106.80396|      10.0|2023-03-21 17:31:10|      0.0|2023.0|  3.0|\n",
      "|AZZZ469X8R07VY|213182918413344|     emoney|Ella Pranowo|         F|            1992|    JAK.08|Roxy - Benhil|      0.0|   B01788P|         JPO Mandiri|    -6.184803|    106.81513|          13|2022-07-24 06:00:30|    B02995P|         PU Irigasi|     -6.201479|     106.81079|      24.0|2022-07-24 06:31:39|      0.0|2022.0|  7.0|\n",
      "|EBXU582T7G08GJ|213182918413344|     emoney|Ella Pranowo|         F|            1992|    JAK.08|Roxy - Benhil|      1.0|   B00272P|Cipta Karya Tata ...|    -6.179781|    106.81041|           3|2023-10-24 17:57:19|    B01560P|Jln. Sanggau Cideng|     -6.169944|     106.80396|      10.0|2023-10-24 19:48:11|      0.0|2023.0| 10.0|\n",
      "|HEOD718P4L68NR|213182918413344|     emoney|Ella Pranowo|         F|            1992|    JAK.08|Roxy - Benhil|      0.0|   B01788P|         JPO Mandiri|    -6.184803|    106.81513|          13|2022-09-25 06:36:41|    B02995P|         PU Irigasi|     -6.201479|     106.81079|      24.0|2022-09-25 07:23:59|      0.0|2022.0|  9.0|\n",
      "|JTDZ010T9B26SM|213182918413344|     emoney|Ella Pranowo|         F|            1992|      NULL|         NULL|      1.0|   B00272P|Cipta Karya Tata ...|    -6.179781|    106.81041|           3|2022-11-25 16:13:51|    B01560P|Jln. Sanggau Cideng|     -6.169944|     106.80396|      10.0|2022-11-25 18:08:16|      0.0|2022.0| 11.0|\n",
      "|SEYX693P2C15HD|213182918413344|     emoney|Ella Pranowo|         F|            1992|    JAK.08|Roxy - Benhil|      0.0|   B01788P|         JPO Mandiri|    -6.184803|    106.81513|          13|2022-07-26 06:25:16|    B02995P|         PU Irigasi|     -6.201479|     106.81079|      24.0|2022-07-26 07:04:47|      0.0|2022.0|  7.0|\n",
      "|XUZH381N7N37XH|213182918413344|     emoney|Ella Pranowo|         F|            1992|    JAK.08|Roxy - Benhil|      1.0|   B00272P|Cipta Karya Tata ...|    -6.179781|    106.81041|           3|2023-07-26 16:54:53|    B01560P|Jln. Sanggau Cideng|     -6.169944|     106.80396|      10.0|2023-07-26 17:59:18|      0.0|2023.0|  7.0|\n",
      "|YBQL223X9B92PZ|213182918413344|     emoney|Ella Pranowo|         F|            1992|    JAK.08|Roxy - Benhil|      0.0|   B01788P|         JPO Mandiri|    -6.184803|    106.81513|          13|2023-11-27 06:04:23|       NULL|         PU Irigasi|     -6.201479|     106.81079|      24.0|2023-11-27 06:32:26|      0.0|2023.0| 11.0|\n",
      "|ZPQM825S2Y57UN|213182918413344|     emoney|Ella Pranowo|         F|            1992|    JAK.08|Roxy - Benhil|      1.0|   B00272P|Cipta Karya Tata ...|    -6.179781|    106.81041|           3|2023-01-27 16:22:44|    B01560P|Jln. Sanggau Cideng|     -6.169944|     106.80396|      10.0|2023-01-27 18:07:18|      0.0|2023.0|  1.0|\n",
      "|FPUH787A3W40GZ|213182918413344|     emoney|Ella Pranowo|         F|            1992|    JAK.08|Roxy - Benhil|      0.0|   B01788P|         JPO Mandiri|    -6.184803|    106.81513|          13|2023-02-28 06:22:55|    B02995P|         PU Irigasi|     -6.201479|     106.81079|      24.0|2023-02-28 06:58:18|      0.0|2023.0|  2.0|\n",
      "|CRYJ422A4T82RU|213182918413344|     emoney|Ella Pranowo|         F|            1992|    JAK.08|Roxy - Benhil|      1.0|   B00272P|Cipta Karya Tata ...|    -6.179781|    106.81041|           3|2022-10-28 16:14:09|    B01560P|Jln. Sanggau Cideng|     -6.169944|     106.80396|      10.0|2022-10-28 18:07:08|      0.0|2022.0| 10.0|\n",
      "+--------------+---------------+-----------+------------+----------+----------------+----------+-------------+---------+----------+--------------------+-------------+-------------+------------+-------------------+-----------+-------------------+--------------+--------------+----------+-------------------+---------+------+-----+\n",
      "\n"
     ]
    }
   ],
   "source": [
    "print(df.where(col('payCardName') == 'Ella Pranowo').count())\n",
    "df.where(col('payCardName') == 'Ella Pranowo').show(40)"
   ]
  },
  {
   "cell_type": "code",
   "execution_count": 9,
   "metadata": {},
   "outputs": [
    {
     "name": "stdout",
     "output_type": "stream",
     "text": [
      "+--------------+-------------------+----------+---------+----------+------------+-------------------+-----------+-------------------+---------+------+-----+\n",
      "|       transId|          payCardID|corridorID|direction|tapInStops|stopStartSeq|          tapInTime|tapOutStops|         tapOutTime|payAmount|  year|month|\n",
      "+--------------+-------------------+----------+---------+----------+------------+-------------------+-----------+-------------------+---------+------+-----+\n",
      "|ATBB895U7P81BP|   4368520028973555|    JAK.84|      1.0|   B01844P|          12|2022-06-03 06:11:03|    B00140P|2022-06-03 06:56:23|      0.0|2022.0|  6.0|\n",
      "|NOTZ322M1L09PJ|   5343809282239143|        6B|      0.0|   B02012P|          12|2022-06-03 05:50:39|       NULL|               NULL|   3500.0|2022.0|  6.0|\n",
      "|HMTO695H4K97TQ|    213181258600684|    JAK.17|      1.0|   B05725P|           0|2022-06-03 06:27:40|    B04507P|2022-06-03 07:17:18|      0.0|2022.0|  6.0|\n",
      "|PRUZ589F4F05JE|      4616141698869|    JAK.25|      0.0|   B01799P|          45|2022-06-03 06:47:12|    B06197P|2022-06-03 07:18:45|      0.0|2022.0|  6.0|\n",
      "|YYMJ647F6V30WB|       501860613964|         3|      1.0|    G00128|           2|2022-06-03 06:08:59|     G00153|2022-06-03 06:38:50|   3500.0|2022.0|  6.0|\n",
      "|FVKZ009I7V45XE|     30081809729530|        5M|      0.0|   B01816P|          49|2022-06-03 06:23:31|    B02399P|2022-06-03 06:54:31|   3500.0|2022.0|  6.0|\n",
      "|OYKX662Y9Q83VL|       501870990949|   JAK.43C|      0.0|   B06675P|           5|2022-06-03 05:09:08|    B06706P|2022-06-03 05:34:39|      0.0|2022.0|  6.0|\n",
      "|CAIH997E6E64QB|   6564588649138277|    JAK.44|      1.0|   B05355P|          19|2022-06-03 05:55:14|    B06841P|2022-06-03 06:19:23|      0.0|2022.0|  6.0|\n",
      "|GKUP293L5E72SO|   3534317773072837|    JAK.07|      1.0|   B02311P|           8|2022-06-03 05:27:13|    B03385P|2022-06-03 06:04:56|      0.0|2022.0|  6.0|\n",
      "|NMWT218P9D99XY|    180066139626041|    JAK.15|      0.0|   B03527P|          19|2022-06-03 06:30:02|    B01290P|2022-06-03 07:06:31|      0.0|2022.0|  6.0|\n",
      "|BXHL689V0H45PY|   4846183355055009|    JAK.36|      0.0|   B01576P|           4|2022-06-03 06:15:08|    B01726P|2022-06-03 06:49:19|      0.0|2022.0|  6.0|\n",
      "|SCDV131P1F13NO|    213182918413344|    JAK.08|      0.0|   B01788P|          13|2022-06-03 06:07:41|    B02995P|2022-06-03 06:52:00|      0.0|2022.0|  6.0|\n",
      "|TLSY442A9Q73CD|   6572765507509464|    JAK.02|      0.0|   B05784P|          12|2022-06-03 05:32:37|    B02189P|2022-06-03 06:29:11|      0.0|2022.0|  6.0|\n",
      "|GKKJ799X3N83DZ|      4576755825101|      NULL|      0.0|    G00120|          10|2022-06-03 05:45:05|     G00567|2022-06-03 06:07:35|   3500.0|2022.0|  6.0|\n",
      "|YKUA413Y4R70YM|     30549484631346|    JAK.21|      0.0|   B04481P|          25|2022-06-03 06:16:53|    B01820P|2022-06-03 06:44:19|      0.0|2022.0|  6.0|\n",
      "|NODC781M4T05SV|   4547316910705708|       M12|      1.0|      NULL|          14|2022-06-03 06:39:36|     G00559|2022-06-03 07:32:07|   3500.0|2022.0|  6.0|\n",
      "|JPNZ071M0J54NM|4031878008151924456|    JAK.39|      0.0|   B04975P|           4|2022-06-03 05:57:57|    B02202P|2022-06-03 06:53:29|      0.0|2022.0|  6.0|\n",
      "|GOZO029L9J69JJ|   3523124906424569|   JAK.43B|      1.0|      NULL|          13|2022-06-03 06:51:43|    B05280P|2022-06-03 07:13:09|      0.0|2022.0|  6.0|\n",
      "|VHPW728N7T29RT|4972005183963596742|      NULL|      0.0|   B01485P|           8|2022-06-03 06:37:38|    B04293P|2022-06-03 07:33:02|      0.0|2022.0|  6.0|\n",
      "|MXGV420U4S50SL|    180043656468628|      NULL|      1.0|   B05107P|          14|2022-06-03 05:29:42|    B04175P|2022-06-03 05:50:13|      0.0|2022.0|  6.0|\n",
      "+--------------+-------------------+----------+---------+----------+------------+-------------------+-----------+-------------------+---------+------+-----+\n",
      "only showing top 20 rows\n",
      "\n"
     ]
    }
   ],
   "source": [
    "transaction = df.select(['transId','payCardID','corridorID','direction','tapInStops','stopStartSeq','tapInTime','tapOutStops','tapOutTime','payAmount','year','month'])\n",
    "transaction.show()"
   ]
  },
  {
   "cell_type": "code",
   "execution_count": 10,
   "metadata": {},
   "outputs": [],
   "source": [
    "transaction.write.csv('transactionmongo', header=True)"
   ]
  }
 ],
 "metadata": {
  "kernelspec": {
   "display_name": "Python 3",
   "language": "python",
   "name": "python3"
  },
  "language_info": {
   "codemirror_mode": {
    "name": "ipython",
    "version": 3
   },
   "file_extension": ".py",
   "mimetype": "text/x-python",
   "name": "python",
   "nbconvert_exporter": "python",
   "pygments_lexer": "ipython3",
   "version": "3.11.0"
  }
 },
 "nbformat": 4,
 "nbformat_minor": 2
}
